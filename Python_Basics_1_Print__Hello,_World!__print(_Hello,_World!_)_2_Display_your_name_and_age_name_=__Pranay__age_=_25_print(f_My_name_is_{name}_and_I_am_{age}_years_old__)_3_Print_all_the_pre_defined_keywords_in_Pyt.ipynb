{
  "nbformat": 4,
  "nbformat_minor": 0,
  "metadata": {
    "colab": {
      "provenance": []
    },
    "kernelspec": {
      "name": "python3",
      "display_name": "Python 3"
    },
    "language_info": {
      "name": "python"
    }
  },
  "cells": [
    {
      "cell_type": "markdown",
      "source": [
        "1- Write a Python program to print \"Hello, World!"
      ],
      "metadata": {
        "id": "ksCU3S4_yCWJ"
      }
    },
    {
      "cell_type": "code",
      "source": [
        "print(\"Hello, World!\")"
      ],
      "metadata": {
        "id": "dlHUXmH5yLIZ"
      },
      "execution_count": null,
      "outputs": []
    },
    {
      "cell_type": "markdown",
      "source": [
        "2- Write a Python program that displays your name and age"
      ],
      "metadata": {
        "id": "la3INgVpyN5T"
      }
    },
    {
      "cell_type": "code",
      "source": [
        "name = \"Pranay\"\n",
        "age = 25\n",
        "print(f\"My name is {name} and I am {age} years old.\")"
      ],
      "metadata": {
        "id": "dyCX-RkFyX9A"
      },
      "execution_count": null,
      "outputs": []
    },
    {
      "cell_type": "markdown",
      "source": [
        "3- Write code to print all the pre-defined keywords in Python using the keyword library"
      ],
      "metadata": {
        "id": "nBuo9fTzychw"
      }
    },
    {
      "cell_type": "code",
      "source": [
        "import keyword\n",
        "print(\"Python Keywords:\")\n",
        "print(keyword.kwlist)"
      ],
      "metadata": {
        "id": "IquqqTELygWl"
      },
      "execution_count": null,
      "outputs": []
    },
    {
      "cell_type": "markdown",
      "source": [
        "4- Write a program that checks if a given word is a Python keyword."
      ],
      "metadata": {
        "id": "ciAxLrm2ym7i"
      }
    },
    {
      "cell_type": "code",
      "source": [
        "word = input(\"Enter a word to check if it's a Python keyword: \")\n",
        "if keyword.iskeyword(word):\n",
        "    print(f\"'{word}' is a Python keyword.\")\n",
        "else:\n",
        "    print(f\"'{word}' is not a Python keyword.\")"
      ],
      "metadata": {
        "id": "-NJiKcwFytdE"
      },
      "execution_count": null,
      "outputs": []
    },
    {
      "cell_type": "markdown",
      "source": [
        "5- Create a list and tuple in Python, and demonstrate how attempting to change an element works differently\n",
        "for each."
      ],
      "metadata": {
        "id": "KW3DcBrYyzHK"
      }
    },
    {
      "cell_type": "code",
      "source": [
        "my_list = [1, 2, 3]\n",
        "my_tuple = (1, 2, 3)\n",
        "\n",
        "# Modifying list\n",
        "my_list[0] = 10\n",
        "print(\"Modified list:\", my_list)\n",
        "\n",
        "# Attempting to modify tuple\n",
        "try:\n",
        "    my_tuple[0] = 10\n",
        "except TypeError as e:\n",
        "    print(\"Error modifying tuple:\", e)"
      ],
      "metadata": {
        "id": "PZEsk-mhy4Vr"
      },
      "execution_count": null,
      "outputs": []
    },
    {
      "cell_type": "markdown",
      "source": [
        "6- Write a function to demonstrate the behavior of mutable and immutable arguments."
      ],
      "metadata": {
        "id": "JYDTn2WbzJPJ"
      }
    },
    {
      "cell_type": "code",
      "source": [
        "def modify_args(a, b):\n",
        "    a += 1\n",
        "    b.append(10)\n",
        "    print(\"Inside function - a:\", a, \"b:\", b)\n",
        "\n",
        "x = 5  # immutable\n",
        "y = [1, 2]  # mutable\n",
        "modify_args(x, y)\n",
        "print(\"Outside function - x:\", x, \"y:\", y)"
      ],
      "metadata": {
        "id": "ti5cZYVxzPil"
      },
      "execution_count": null,
      "outputs": []
    },
    {
      "cell_type": "markdown",
      "source": [
        "7- Write a program that performs basic arithmetic operations on two user-input numbers."
      ],
      "metadata": {
        "id": "2W1aV15ZzZLm"
      }
    },
    {
      "cell_type": "code",
      "source": [
        "a = float(input(\"Enter first number: \"))\n",
        "b = float(input(\"Enter second number: \"))\n",
        "print(\"Addition:\", a + b)\n",
        "print(\"Subtraction:\", a - b)\n",
        "print(\"Multiplication:\", a * b)\n",
        "print(\"Division:\", a / b if b != 0 else \"Cannot divide by zero\")"
      ],
      "metadata": {
        "id": "gaQ03DebzdRN"
      },
      "execution_count": null,
      "outputs": []
    },
    {
      "cell_type": "markdown",
      "source": [
        "8- Write a program to demonstrate the use of logical operators."
      ],
      "metadata": {
        "id": "VonOsFzrzkl5"
      }
    },
    {
      "cell_type": "code",
      "source": [
        "x = int(input(\"Enter a number: \"))\n",
        "if x > 0 and x < 100:\n",
        "    print(\"Number is between 0 and 100\")\n",
        "if x < 0 or x > 100:\n",
        "    print(\"Number is outside 0 to 100\")\n",
        "if not x == 50:\n",
        "    print(\"Number is not 50\")"
      ],
      "metadata": {
        "id": "3tUHM8duzpRy"
      },
      "execution_count": null,
      "outputs": []
    },
    {
      "cell_type": "markdown",
      "source": [
        "9- Write a Python program to convert user input from string to integer, float, and boolean types."
      ],
      "metadata": {
        "id": "w-cI6E7wztjk"
      }
    },
    {
      "cell_type": "code",
      "source": [
        "s = input(\"Enter a value: \")\n",
        "try:\n",
        "    i = int(s)\n",
        "    f = float(s)\n",
        "    b = bool(s)\n",
        "    print(\"Integer:\", i)\n",
        "    print(\"Float:\", f)\n",
        "    print(\"Boolean:\", b)\n",
        "except ValueError:\n",
        "    print(\"Cannot convert input to int or float\")"
      ],
      "metadata": {
        "id": "uXBWpsgrz168"
      },
      "execution_count": null,
      "outputs": []
    },
    {
      "cell_type": "markdown",
      "source": [
        "10- Write code to demonstrate type casting with list elements."
      ],
      "metadata": {
        "id": "t5BNWT9Zz7-D"
      }
    },
    {
      "cell_type": "code",
      "source": [
        "str_list = ['1', '2', '3']\n",
        "int_list = [int(i) for i in str_list]\n",
        "print(\"Converted list:\", int_list)"
      ],
      "metadata": {
        "id": "IgNmscgy0DIM"
      },
      "execution_count": null,
      "outputs": []
    },
    {
      "cell_type": "markdown",
      "source": [
        "11-Write a program that checks if a number is positive, negative, or zero."
      ],
      "metadata": {
        "id": "RsvwpM0z0HJ1"
      }
    },
    {
      "cell_type": "code",
      "source": [
        "num = float(input(\"Enter a number: \"))\n",
        "if num > 0:\n",
        "    print(\"Positive\")\n",
        "elif num < 0:\n",
        "    print(\"Negative\")\n",
        "else:\n",
        "    print(\"Zero\")"
      ],
      "metadata": {
        "id": "FbolmIkG0MyZ"
      },
      "execution_count": null,
      "outputs": []
    },
    {
      "cell_type": "markdown",
      "source": [
        "12- Print numbers from 1 to 10 using for loop"
      ],
      "metadata": {
        "id": "3gpHEobL0QxI"
      }
    },
    {
      "cell_type": "code",
      "source": [
        "for i in range(1, 11):\n",
        "    print(i, end=' ')\n",
        "print()"
      ],
      "metadata": {
        "id": "EwCLcFih0Vtv"
      },
      "execution_count": null,
      "outputs": []
    },
    {
      "cell_type": "markdown",
      "source": [
        "13- Sum of even numbers between 1 and 50"
      ],
      "metadata": {
        "id": "iESHBNe10c3a"
      }
    },
    {
      "cell_type": "code",
      "source": [
        "total = 0\n",
        "for i in range(2, 51, 2):\n",
        "    total += i\n",
        "print(\"Sum of even numbers from 1 to 50:\", total)"
      ],
      "metadata": {
        "id": "wT-QYWIx0itW"
      },
      "execution_count": null,
      "outputs": []
    },
    {
      "cell_type": "markdown",
      "source": [
        "14- Reverse a string using a while loop"
      ],
      "metadata": {
        "id": "tkZ1H7iL0mbM"
      }
    },
    {
      "cell_type": "code",
      "source": [
        "s = input(\"Enter a string to reverse: \")\n",
        "reversed_str = \"\"\n",
        "i = len(s) - 1\n",
        "while i >= 0:\n",
        "    reversed_str += s[i]\n",
        "    i -= 1\n",
        "print(\"Reversed string:\", reversed_str)"
      ],
      "metadata": {
        "id": "9OBnoATF0rXl"
      },
      "execution_count": null,
      "outputs": []
    },
    {
      "cell_type": "markdown",
      "source": [
        "15- Factorial using while loop"
      ],
      "metadata": {
        "id": "zyiD4oVE0wuO"
      }
    },
    {
      "cell_type": "code",
      "source": [
        "num = int(input(\"Enter a number to find factorial: \"))\n",
        "factorial = 1\n",
        "temp = num\n",
        "while temp > 0:\n",
        "    factorial *= temp\n",
        "    temp -= 1\n",
        "print(f\"Factorial of {num} is {factorial}\")"
      ],
      "metadata": {
        "id": "zRKwJGi2002K"
      },
      "execution_count": null,
      "outputs": []
    }
  ]
}